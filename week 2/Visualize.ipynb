{
 "cells": [
  {
   "cell_type": "markdown",
   "metadata": {},
   "source": [
    "# Demo tương tác với mô hình SVM"
   ]
  },
  {
   "cell_type": "code",
   "execution_count": 1,
   "metadata": {
    "collapsed": true
   },
   "outputs": [],
   "source": [
    "# import các thư viện cần thiết\n",
    "from ipywidgets import interact, interactive, IntSlider, Layout\n",
    "import ipywidgets as widgets\n",
    "from IPython.display import display\n",
    "\n",
    "import numpy as np\n",
    "import matplotlib.pyplot as plt\n",
    "#%matplotlib inline"
   ]
  },
  {
   "cell_type": "markdown",
   "metadata": {},
   "source": [
    "## SVM và bài toán Phân lớp"
   ]
  },
  {
   "cell_type": "markdown",
   "metadata": {},
   "source": [
    "### Đóng gói SVM trong một hàm"
   ]
  },
  {
   "cell_type": "code",
   "execution_count": 2,
   "metadata": {
    "collapsed": true
   },
   "outputs": [],
   "source": [
    "def plot_contours(ax, clf, xx, yy, **params):\n",
    "    \"\"\"Biểu diễn biên quyết định của bộ phân lớp SVC.\n",
    "\n",
    "    Tham số\n",
    "    ----------\n",
    "    ax: Đối tượng subplot của matplotlib\n",
    "    clf: Bộ phân lớp\n",
    "    xx: Tọa độ theo trục tung \n",
    "    yy: Tọa độ theo trục hoành\n",
    "    params: Thư viện tham số ứng với hàm contourf\n",
    "    \"\"\"\n",
    "    Z = clf.predict(np.c_[xx.ravel(), yy.ravel()])\n",
    "    Z = Z.reshape(xx.shape)\n",
    "    out = ax.contourf(xx, yy, Z, **params)\n",
    "    return out"
   ]
  },
  {
   "cell_type": "code",
   "execution_count": 3,
   "metadata": {
    "collapsed": true
   },
   "outputs": [],
   "source": [
    "def make_meshgrid(x, y, h=.02):\n",
    "    \"\"\"Tạo ra lưới các điểm để biểu diễn\n",
    "\n",
    "    Tham số\n",
    "    ----------\n",
    "    x: dữ liệu trên trục X\n",
    "    y: dữ liệu trên trục Y\n",
    "    h: kích cỡ một mắt lưới\n",
    "\n",
    "    Returns\n",
    "    -------\n",
    "    xx, yy : ndarray\n",
    "    \"\"\"\n",
    "    x_min, x_max = x.min() - 1, x.max() + 1\n",
    "    y_min, y_max = y.min() - 1, y.max() + 1\n",
    "    xx, yy = np.meshgrid(np.arange(x_min, x_max, h),\n",
    "                         np.arange(y_min, y_max, h))\n",
    "    return xx, yy"
   ]
  },
  {
   "cell_type": "code",
   "execution_count": 4,
   "metadata": {
    "collapsed": true
   },
   "outputs": [],
   "source": [
    "def svm_fit(kernel, C, test_size):\n",
    "    \n",
    "    X_train, X_test, y_train, y_test = train_test_split(X,y,test_size=test_size,random_state=101)\n",
    "    clf = svm.SVC(C=C, kernel=kernel, probability=True)\n",
    "    clf.fit(X_train,y_train)\n",
    "    \n",
    "    train_pred = np.array(clf.predict(X_train))\n",
    "    train_score = clf.score(X_train,y_train)\n",
    "    \n",
    "    test_pred = np.array(clf.predict(X_test))\n",
    "    test_score = clf.score(X_test,y_test)\n",
    "    \n",
    "    \n",
    "    # Cài đặt lưới 1x2 để biểu diễn dữ liệu\n",
    "    fig, sub = plt.subplots(1,2)\n",
    "    plt.subplots_adjust(wspace=0.5, hspace=0.5)\n",
    "    \n",
    "    titles = ['Training data acc: %.2f' %(train_score), \n",
    "              'Test data acc: %.2f' %(test_score)]\n",
    "    datas = [X_train, X_test]\n",
    "    labels = [y_train, y_test]\n",
    "    \n",
    "    for data, label, title, ax in zip(datas, labels, titles, sub.flatten()):\n",
    "        # biểu diễn mô hình trong không gian 2 chiều với 2 đặc trưng\n",
    "        X0, X1 = data[:, 0], data[:, 1]\n",
    "        xx, yy = make_meshgrid(X0, X1)\n",
    "        plot_contours(ax, clf, xx, yy,\n",
    "                      cmap=plt.cm.coolwarm, alpha=0.8)\n",
    "        ax.scatter(X0, X1, c=label, cmap=plt.cm.coolwarm, s=20, edgecolors='k')\n",
    "        ax.set_xlim(xx.min(), xx.max())\n",
    "        ax.set_ylim(yy.min(), yy.max())\n",
    "        ax.set_xlabel('Sepal length')\n",
    "        ax.set_ylabel('Sepal width')\n",
    "        ax.set_xticks(())\n",
    "        ax.set_yticks(())\n",
    "        ax.set_title(title)\n",
    "\n",
    "    plt.show()\n",
    "\n",
    "    return (train_score,test_score)"
   ]
  },
  {
   "cell_type": "markdown",
   "metadata": {},
   "source": [
    "### Xây dựng hàm đóng gói có tương tác với ipywidget"
   ]
  },
  {
   "cell_type": "code",
   "execution_count": 5,
   "metadata": {},
   "outputs": [
    {
     "data": {
      "image/png": "[encoded data removed]",
      "text/plain": [
       "<matplotlib.figure.Figure at 0x7f590e8ed3d0>"
      ]
     },
     "metadata": {},
     "output_type": "display_data"
    }
   ],
   "source": [
    "# import datasets và mô hình SVM\n",
    "from sklearn import svm, datasets\n",
    "\n",
    "# import công cụ hỗ trợ chia tập dữ liệu thành tập huấn luyện và tập kiểm tra\n",
    "from sklearn.model_selection import train_test_split\n",
    "\n",
    "# tải dữ liệu từ datasets\n",
    "iris = datasets.load_iris()\n",
    "X = iris.data[:,:2]\n",
    "y = iris.target\n",
    "\n",
    "from ipywidgets import HBox, Label, FloatSlider\n",
    "\n",
    "style = {'description_width': 'initial'}\n",
    "\n",
    "lb1 = Label(value=\"Play with options and watch the probability space evolve dynamically. \\\n",
    "Remember, smaller the value of $C$, stronger the regularization strength\",fontsize=15)\n",
    "\n",
    "svm_model=interactive(svm_fit,\n",
    "                      kernel=widgets.RadioButtons(options=['linear', 'poly', 'rbf', 'sigmoid'],\n",
    "                                                  description = 'Kernel Type'),\n",
    "                      C=FloatSlider(value=0.1,min=0.1,max=2,step=0.1,\n",
    "                                    description='Regularization ($10^{-C}$), $C$', style=style,\n",
    "                                    continuous_update=False),\n",
    "                      test_size=FloatSlider(value=0.1,min=0.1,max=0.5,step=0.1,\n",
    "                                            description = 'Test fraction ($X_{test}$)', style=style))\n",
    "\n",
    "# Hiển thị mô hình với khả năng tương tác\n",
    "display(lb1)\n",
    "display(svm_model)"
   ]
  },
  {
   "cell_type": "code",
   "execution_count": null,
   "metadata": {
    "collapsed": true
   },
   "outputs": [],
   "source": []
  },
  {
   "cell_type": "code",
   "execution_count": null,
   "metadata": {
    "collapsed": true
   },
   "outputs": [],
   "source": []
  }
 ],
 "metadata": {
  "kernelspec": {
   "display_name": "Python 2",
   "language": "python",
   "name": "python2"
  },
  "language_info": {
   "codemirror_mode": {
    "name": "ipython",
    "version": 2
   },
   "file_extension": ".py",
   "mimetype": "text/x-python",
   "name": "python",
   "nbconvert_exporter": "python",
   "pygments_lexer": "ipython2",
   "version": "2.7.12"
  }
 },
 "nbformat": 4,
 "nbformat_minor": 2
}
